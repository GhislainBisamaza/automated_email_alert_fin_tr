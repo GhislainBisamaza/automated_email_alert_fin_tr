{
 "cells": [
  {
   "cell_type": "code",
   "execution_count": 4,
   "id": "2ad8d235",
   "metadata": {},
   "outputs": [],
   "source": [
    "import os\n",
    "import win32com.client as win32"
   ]
  },
  {
   "cell_type": "code",
   "execution_count": 12,
   "id": "812ba1d0",
   "metadata": {},
   "outputs": [],
   "source": [
    "olApp = win32.Dispatch('Outlook.Application')\n",
    "olNS = olApp.GetNameSpace('MAPI')\n",
    "\n",
    "# construct the email item object\n",
    "mailItem = olApp.CreateItem(0)\n",
    "mailItem.Subject = 'Trading Analytics Email verification Test with File'\n",
    "mailItem.BodyFormat = 1\n",
    "mailItem.Body = \"Test 1\"\n",
    "# mailItem.To = 'Ghislain.Bisamaza@arm.com.ng'\n",
    "mailItem.To = 'bisamazaghislain@gmail.com'\n",
    "\n",
    "mailItem.Attachments.Add(os.path.join(os.getcwd(), 'BBBacktester.py'))\n",
    "mailItem.Display()\n",
    "# mailItem.Send()"
   ]
  },
  {
   "cell_type": "code",
   "execution_count": null,
   "id": "57ab5994",
   "metadata": {},
   "outputs": [],
   "source": []
  }
 ],
 "metadata": {
  "kernelspec": {
   "display_name": "Python 3 (ipykernel)",
   "language": "python",
   "name": "python3"
  },
  "language_info": {
   "codemirror_mode": {
    "name": "ipython",
    "version": 3
   },
   "file_extension": ".py",
   "mimetype": "text/x-python",
   "name": "python",
   "nbconvert_exporter": "python",
   "pygments_lexer": "ipython3",
   "version": "3.9.16"
  }
 },
 "nbformat": 4,
 "nbformat_minor": 5
}
